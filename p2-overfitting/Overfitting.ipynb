{
 "cells": [
  {
   "cell_type": "markdown",
   "metadata": {},
   "source": [
    "## Antes de começar..."
   ]
  },
  {
   "cell_type": "markdown",
   "metadata": {},
   "source": [
    "Nessa prática, iremos entender melhor o conceito de Overfitting e underfitting além de ter o primeiro contato com um método de aprendizado de máquina supervisionado (Árvore de Decisão). Para isso, iremos usar a biblioteca [Scikit Learn](ttps://scikit-learn.org), além das bibliotecas que usamos na prática passada: pandas, matplotlib e numpy. Clique no código abaixo e pressione ctrl+enter para executá-lo.\n",
    "\n",
    "Para isso, se necessário, instale tais bibliotecas usando `pip3 install pandas matplotlib numpy` (em alguns Sistemas Operacionais/configurações, você usará `pip` ao inves de `pip3`)"
   ]
  },
  {
   "cell_type": "code",
   "execution_count": 1,
   "metadata": {},
   "outputs": [],
   "source": [
    "import numpy as np\n",
    "import pandas as pd\n",
    "import sklearn.datasets\n",
    "import matplotlib.pyplot as plt"
   ]
  },
  {
   "cell_type": "markdown",
   "metadata": {},
   "source": [
    "### ...um pouquinho mais sobre 🐼🐼"
   ]
  },
  {
   "cell_type": "markdown",
   "metadata": {},
   "source": [
    "<a href=\"https://pandas.pydata.org/pandas-docs/stable/reference/api/pandas.DataFrame.drop.html\">**Método drop**</a> Remove colunas ou linhas do dataframe. Utilize inplace=True para a modificação ocorrer no dataframe que está sendo modificado. Veja exemplo:"
   ]
  },
  {
   "cell_type": "code",
   "execution_count": 2,
   "metadata": {},
   "outputs": [
    {
     "name": "stdout",
     "output_type": "stream",
     "text": [
      "   ana  bruna  carol  daniel\n",
      "0    0      1      2       3\n",
      "1    4      5      6       7\n",
      "2    8      9     10      11\n",
      "3   12     13     14      15\n",
      "4   16     17     18      19\n",
      "\n",
      "\n",
      " depois de remover... \n",
      "\n",
      "\n",
      "   ana  bruna\n",
      "0    0      1\n",
      "1    4      5\n",
      "2    8      9\n",
      "3   12     13\n",
      "4   16     17\n"
     ]
    }
   ],
   "source": [
    "df = pd.DataFrame(np.arange(20).reshape(5, 4),columns=['ana', 'bruna', 'carol', 'daniel'])\n",
    "print(df)\n",
    "print(\"\\n\\n depois de remover... \\n\\n\")\n",
    "print(df.drop(['carol', 'daniel'], axis=1))"
   ]
  },
  {
   "cell_type": "markdown",
   "metadata": {},
   "source": [
    "<a href=\"https://pandas.pydata.org/pandas-docs/stable/reference/api/pandas.DataFrame.sample.html\">**Método sample**</a> Extrai uma amostra aleatória do Dataframe. Utilize random_state = \"número inteiro\" para que seja embaralhado sempre da mesma forma - importante para [reprodutibilidade dos resultados](https://pt.wikipedia.org/wiki/Reprodutibilidade). Além disso, você pode remover a amostra selecionada da amostra original por meio dos índices (precisam ser únicos)."
   ]
  },
  {
   "cell_type": "code",
   "execution_count": 3,
   "metadata": {},
   "outputs": [
    {
     "data": {
      "text/html": [
       "<div>\n",
       "<style scoped>\n",
       "    .dataframe tbody tr th:only-of-type {\n",
       "        vertical-align: middle;\n",
       "    }\n",
       "\n",
       "    .dataframe tbody tr th {\n",
       "        vertical-align: top;\n",
       "    }\n",
       "\n",
       "    .dataframe thead th {\n",
       "        text-align: right;\n",
       "    }\n",
       "</style>\n",
       "<table border=\"1\" class=\"dataframe\">\n",
       "  <thead>\n",
       "    <tr style=\"text-align: right;\">\n",
       "      <th></th>\n",
       "      <th>ana</th>\n",
       "      <th>bruna</th>\n",
       "      <th>carol</th>\n",
       "      <th>daniel</th>\n",
       "    </tr>\n",
       "  </thead>\n",
       "  <tbody>\n",
       "    <tr>\n",
       "      <th>2</th>\n",
       "      <td>8</td>\n",
       "      <td>9</td>\n",
       "      <td>10</td>\n",
       "      <td>11</td>\n",
       "    </tr>\n",
       "    <tr>\n",
       "      <th>1</th>\n",
       "      <td>4</td>\n",
       "      <td>5</td>\n",
       "      <td>6</td>\n",
       "      <td>7</td>\n",
       "    </tr>\n",
       "    <tr>\n",
       "      <th>4</th>\n",
       "      <td>16</td>\n",
       "      <td>17</td>\n",
       "      <td>18</td>\n",
       "      <td>19</td>\n",
       "    </tr>\n",
       "  </tbody>\n",
       "</table>\n",
       "</div>"
      ],
      "text/plain": [
       "   ana  bruna  carol  daniel\n",
       "2    8      9     10      11\n",
       "1    4      5      6       7\n",
       "4   16     17     18      19"
      ]
     },
     "execution_count": 3,
     "metadata": {},
     "output_type": "execute_result"
    }
   ],
   "source": [
    "df_sample = df.sample(frac=0.6, random_state=1)\n",
    "df_sample"
   ]
  },
  {
   "cell_type": "markdown",
   "metadata": {},
   "source": [
    "Remoção da amostra selecionada:"
   ]
  },
  {
   "cell_type": "code",
   "execution_count": 4,
   "metadata": {},
   "outputs": [
    {
     "data": {
      "text/html": [
       "<div>\n",
       "<style scoped>\n",
       "    .dataframe tbody tr th:only-of-type {\n",
       "        vertical-align: middle;\n",
       "    }\n",
       "\n",
       "    .dataframe tbody tr th {\n",
       "        vertical-align: top;\n",
       "    }\n",
       "\n",
       "    .dataframe thead th {\n",
       "        text-align: right;\n",
       "    }\n",
       "</style>\n",
       "<table border=\"1\" class=\"dataframe\">\n",
       "  <thead>\n",
       "    <tr style=\"text-align: right;\">\n",
       "      <th></th>\n",
       "      <th>ana</th>\n",
       "      <th>bruna</th>\n",
       "      <th>carol</th>\n",
       "      <th>daniel</th>\n",
       "    </tr>\n",
       "  </thead>\n",
       "  <tbody>\n",
       "    <tr>\n",
       "      <th>0</th>\n",
       "      <td>0</td>\n",
       "      <td>1</td>\n",
       "      <td>2</td>\n",
       "      <td>3</td>\n",
       "    </tr>\n",
       "    <tr>\n",
       "      <th>3</th>\n",
       "      <td>12</td>\n",
       "      <td>13</td>\n",
       "      <td>14</td>\n",
       "      <td>15</td>\n",
       "    </tr>\n",
       "  </tbody>\n",
       "</table>\n",
       "</div>"
      ],
      "text/plain": [
       "   ana  bruna  carol  daniel\n",
       "0    0      1      2       3\n",
       "3   12     13     14      15"
      ]
     },
     "execution_count": 4,
     "metadata": {},
     "output_type": "execute_result"
    }
   ],
   "source": [
    "df_retirando_sample = df.drop(df_sample.index)\n",
    "df_retirando_sample"
   ]
  },
  {
   "cell_type": "markdown",
   "metadata": {},
   "source": [
    "## Overfitting - Exemplo Ilustrativo"
   ]
  },
  {
   "cell_type": "markdown",
   "metadata": {},
   "source": [
    "A principio, vamos fazer um dataset artificial em que possuimos dois atributos (também chamado de caracteríscas ou, do inglês, *features*) e duas possíveis saídas (também chamado de valor alvo ou classe alvo). Para isso, temos a matriz `x` e o vetor `y` em que, para cada exemplo `i`, cada linha `x[i]` dessa matriz representa esse exemplo (neste caso, representado por dois atributos) e a classe alvo `y[i]`.\n",
    "\n",
    "Veja o dataset:"
   ]
  },
  {
   "cell_type": "code",
   "execution_count": 5,
   "metadata": {
    "scrolled": true
   },
   "outputs": [
    {
     "data": {
      "text/plain": [
       "array([[-0.49511301,  0.96602758],\n",
       "       [ 1.71424117, -0.49933902],\n",
       "       [ 1.3702969 , -0.37944818],\n",
       "       [-1.11477769,  0.16771336],\n",
       "       [-0.13290417, -0.14821564],\n",
       "       [ 0.62307375,  0.86983696],\n",
       "       [-0.91762377,  0.58061579],\n",
       "       [ 0.07292557, -0.44423885],\n",
       "       [-0.74499852,  0.89696524],\n",
       "       [-0.26472071,  0.47607795]])"
      ]
     },
     "execution_count": 5,
     "metadata": {},
     "output_type": "execute_result"
    }
   ],
   "source": [
    "np.random.seed(0)\n",
    "x, y = sklearn.datasets.make_moons(400, noise=0.25)\n",
    "x[:10]#10 primeiras linhas da matriz X"
   ]
  },
  {
   "cell_type": "code",
   "execution_count": 6,
   "metadata": {},
   "outputs": [
    {
     "data": {
      "text/plain": [
       "array([0, 1, 1, 0, 1, 0, 0, 1, 0, 1], dtype=int64)"
      ]
     },
     "execution_count": 6,
     "metadata": {},
     "output_type": "execute_result"
    }
   ],
   "source": [
    "y[:10]#lista com 10 primeiros itens do vetor y"
   ]
  },
  {
   "cell_type": "markdown",
   "metadata": {},
   "source": [
    "Nessa e nas demais práticas, iremos representar a classe alvo como um vetor `y` e, os atributos, pela matriz `x`.\n",
    "\n",
    "Abaixo, podemos ver a representação gráfica deste dataset em que, para cada instancia `i`, o eixo x é o atributo `x[i][0]` e o eixo y é o atributo `x[i][1]` a classe alvo `y[i]` é representada pela cor."
   ]
  },
  {
   "cell_type": "code",
   "execution_count": 7,
   "metadata": {
    "scrolled": true
   },
   "outputs": [
    {
     "data": {
      "text/plain": [
       "<matplotlib.collections.PathCollection at 0x2ca4c997220>"
      ]
     },
     "execution_count": 7,
     "metadata": {},
     "output_type": "execute_result"
    },
    {
     "data": {
      "image/png": "[encoded data removed]",
      "text/plain": [
       "<Figure size 432x288 with 1 Axes>"
      ]
     },
     "metadata": {
      "needs_background": "light"
     },
     "output_type": "display_data"
    }
   ],
   "source": [
    "plt.scatter(x[:,0], x[:,1], s=40, c=y, cmap=plt.cm.Spectral)"
   ]
  },
  {
   "cell_type": "markdown",
   "metadata": {},
   "source": [
    "Inicialmente, no aquivo `arvore_de_decisao.py` implemente a função `cria_modelo`. Veja a seguir as instruções de como implementá-la.\n",
    "\n",
    "Nessa função, você deverá criar um modelo baseado em arvore de decisão, por meio de um treino. Para o treino, use a variável `x` (que pode ser uma matriz ou DataFrame) em que, cada linha, é uma instância representada pelos seus atributos, além disso, a `y` é um vetor ou Series  representando a classe alvo  de cada instância. Coloque como `random_state=1` que é o seed (semente) da função aleatória usada, pois, por padrão, a árvore de decisão do Scikit learn obtém os dados de forma aleátoria. Definindo este parametro, garantimos que o resultado será o mesmo em todas as execuções.\n",
    "\n",
    "Além disso, com o objetivo de avaliarmos o overfitting, essa função possuirá o parametro `min_samples_split` que \n",
    " que define o mínimo de exemplos necessários para que um nodo da árvore efetue a divisão. Use esse parâmetro ao instanciar a Árvore de Decisão. \n",
    "\n",
    "Para implementar essa função, use a classe `DecisionTreeClassifier`. [Veja a documentação desta classe](https://scikit-learn.org/stable/modules/generated/sklearn.tree.DecisionTreeClassifier.html). Se necessário, comente a importação abaixo, copie e cole a função aqui e, logo após, volte ela para o arquivo. Para criar/obter o modelo use o [método fit](https://scikit-learn.org/stable/modules/generated/sklearn.tree.DecisionTreeClassifier.html#sklearn.tree.DecisionTreeClassifier.fit).  Após implementar, execute o teste abaixo."
   ]
  },
  {
   "cell_type": "code",
   "execution_count": 8,
   "metadata": {},
   "outputs": [
    {
     "name": "stderr",
     "output_type": "stream",
     "text": [
      ".\n",
      "----------------------------------------------------------------------\n",
      "Ran 1 test in 0.085s\n",
      "\n",
      "OK\n"
     ]
    }
   ],
   "source": [
    "!python3 -m tests TestDecisionTree.test_cria_modelo"
   ]
  },
  {
   "cell_type": "markdown",
   "metadata": {},
   "source": [
    "Logo após, execute o código abaixo para importar a função criada. Lembre-se de reiniciar o kernel caso faça alguma modificação na mesma após importar."
   ]
  },
  {
   "cell_type": "code",
   "execution_count": 9,
   "metadata": {},
   "outputs": [],
   "source": [
    "from arvore_decisao import cria_modelo"
   ]
  },
  {
   "cell_type": "markdown",
   "metadata": {},
   "source": [
    "Abaixo, crie um modelo e use a função `plot_decision_boudary` para gerar o grafico apresentado o dataset ilustrativo com a superfície de decisão do modelo criado. Essa função está no arquivo `util.py`.\n",
    "\n",
    "Na criação do modelo, altere o parametro `min_samples` até um valor que você julgue adequado. Veja o *overfitting* em valores muito baixos (abaixo de 1%, principalmente) e *underfitting* em valores muito altos. Como usualmente implementada, a porcentagem nesta função é um valor entre 0 e 1 em que 1 representa 100% 0.5, por exemplo, representa 50%."
   ]
  },
  {
   "cell_type": "code",
   "execution_count": 10,
   "metadata": {
    "scrolled": true
   },
   "outputs": [
    {
     "data": {
      "image/png": "[encoded data removed]",
      "text/plain": [
       "<Figure size 576x432 with 1 Axes>"
      ]
     },
     "metadata": {
      "needs_background": "light"
     },
     "output_type": "display_data"
    }
   ],
   "source": [
    "from util import plot_decision_boundary\n",
    "\n",
    "plot_decision_boundary(cria_modelo(x,y,0.1),x,y)\n"
   ]
  },
  {
   "cell_type": "markdown",
   "metadata": {},
   "source": [
    "## Impacto do Overfitting/Underfitting - Estimativa Automática da Qualidade de Conteúdo"
   ]
  },
  {
   "cell_type": "markdown",
   "metadata": {},
   "source": [
    "Nesta prática, iremos usar dados de 3.294 artigos da Wikipédia rotulados manualmente quanto a sua qualidade. \n",
    "\n",
    "Esses artigos passaram por uma avaliação pela comunidade de editores da Wikipedia. Tais editores classificaram esses artigos quanto a qualidade da seguinte forma: \n",
    "\n",
    "- **Artigo Destaque (FA)**: Os artigos atribuídos a esta classe são, de acordo com os avaliadores, os melhores artigos da Wikipédia.\n",
    "- **Classe A (AC)**: os artigos da Classe A são considerados completos, mas com alguns problemas pendentes que precisam ser resolvidos para serem promovidos a Artigos em destaque.\n",
    "- **Artigo Bons (GA)**: Bons Artigos são aqueles sem problemas de lacunas ou conteúdo excessivo. Essas são boas fontes de informação, embora outras enciclopédias possam fornecer um conteúdo melhor.\n",
    "- **Classe B (BC)**: os artigos atribuídos a essa classe são considerados úteis para a maioria dos usuários, mas carecem de informações mais precisas.\n",
    "- **Classe Inicial (ST)**: os artigos da Classe Inicial ainda estão incompletos, embora contenham referências e ponteiros para informações mais completas.\n",
    "- **Artigos Rascunhos (SB)**: os artigos de toco são artigos de rascunho, com poucos parágrafos. Eles também têm poucas ou nenhumas citações.\n",
    "\n",
    "Assim, [Dalip et. al. (2009)](https://dl.acm.org/citation.cfm?id=1555449) fizeram o preprocessamento desses artigos para serem extraídos indicadores de qualidades tais como: idade do artigo, tamanho, número de citações. Com tais indicadores e a classe de qualidade, foi possível realizar a predição automática de qualidade de artigos da Wikipédia.\n",
    "\n",
    "Nesta prática, iremos fazer a previsão da qualidade usando os indicadores proposto por [Dalip et. al. (2009)](https://dl.acm.org/citation.cfm?id=1555449) e uma árvore de decisão."
   ]
  },
  {
   "cell_type": "markdown",
   "metadata": {},
   "source": [
    "Inicialmente, uso um DataFrame pandas e [leia o arquivo `wikipedia.csv`](https://pandas.pydata.org/pandas-docs/stable/reference/api/pandas.read_csv.html) e exiba os dados deste dataset. Coloque como o rótulo da linha o id do artigo (ou seja, no dataset, a coluna `id` será a `index_col` do DataFrame)."
   ]
  },
  {
   "cell_type": "code",
   "execution_count": 11,
   "metadata": {},
   "outputs": [
    {
     "data": {
      "text/html": [
       "<div>\n",
       "<style scoped>\n",
       "    .dataframe tbody tr th:only-of-type {\n",
       "        vertical-align: middle;\n",
       "    }\n",
       "\n",
       "    .dataframe tbody tr th {\n",
       "        vertical-align: top;\n",
       "    }\n",
       "\n",
       "    .dataframe thead th {\n",
       "        text-align: right;\n",
       "    }\n",
       "</style>\n",
       "<table border=\"1\" class=\"dataframe\">\n",
       "  <thead>\n",
       "    <tr style=\"text-align: right;\">\n",
       "      <th></th>\n",
       "      <th>realClass</th>\n",
       "      <th>\\histAge</th>\n",
       "      <th>\\histAgePerReview</th>\n",
       "      <th>\\histReviewsPerUser</th>\n",
       "      <th>\\histDiscussionCount</th>\n",
       "      <th>\\histIPCount</th>\n",
       "      <th>\\histReviewCount</th>\n",
       "      <th>\\histUserCount</th>\n",
       "      <th>\\histModifiedLinesRate</th>\n",
       "      <th>\\histOccasionalUsersReviewsRate</th>\n",
       "      <th>...</th>\n",
       "      <th>\\minAbsLen</th>\n",
       "      <th>\\XLinksPerSec</th>\n",
       "      <th>\\ssCount</th>\n",
       "      <th>\\sCount</th>\n",
       "      <th>\\numExtLink</th>\n",
       "      <th>\\tamMaiorFrase</th>\n",
       "      <th>\\avgSLen</th>\n",
       "      <th>\\meanSubsectionPerSection</th>\n",
       "      <th>\\LinksPerTLen</th>\n",
       "      <th>\\avgPLen</th>\n",
       "    </tr>\n",
       "    <tr>\n",
       "      <th>id</th>\n",
       "      <th></th>\n",
       "      <th></th>\n",
       "      <th></th>\n",
       "      <th></th>\n",
       "      <th></th>\n",
       "      <th></th>\n",
       "      <th></th>\n",
       "      <th></th>\n",
       "      <th></th>\n",
       "      <th></th>\n",
       "      <th></th>\n",
       "      <th></th>\n",
       "      <th></th>\n",
       "      <th></th>\n",
       "      <th></th>\n",
       "      <th></th>\n",
       "      <th></th>\n",
       "      <th></th>\n",
       "      <th></th>\n",
       "      <th></th>\n",
       "      <th></th>\n",
       "    </tr>\n",
       "  </thead>\n",
       "  <tbody>\n",
       "    <tr>\n",
       "      <th>9915833</th>\n",
       "      <td>'SB'</td>\n",
       "      <td>1000.0</td>\n",
       "      <td>0.14</td>\n",
       "      <td>1.67</td>\n",
       "      <td>4.0</td>\n",
       "      <td>0.0</td>\n",
       "      <td>5.0</td>\n",
       "      <td>5.0</td>\n",
       "      <td>0.00</td>\n",
       "      <td>100.00</td>\n",
       "      <td>...</td>\n",
       "      <td>0.0</td>\n",
       "      <td>0.0000</td>\n",
       "      <td>0.0</td>\n",
       "      <td>0.0</td>\n",
       "      <td>0.0</td>\n",
       "      <td>19.0</td>\n",
       "      <td>0.000000e+00</td>\n",
       "      <td>0.0000</td>\n",
       "      <td>11.1209</td>\n",
       "      <td>9.3333</td>\n",
       "    </tr>\n",
       "    <tr>\n",
       "      <th>6044227</th>\n",
       "      <td>'SB'</td>\n",
       "      <td>1230.0</td>\n",
       "      <td>14.43</td>\n",
       "      <td>4.00</td>\n",
       "      <td>4.0</td>\n",
       "      <td>12.0</td>\n",
       "      <td>64.0</td>\n",
       "      <td>52.0</td>\n",
       "      <td>21.52</td>\n",
       "      <td>21.88</td>\n",
       "      <td>...</td>\n",
       "      <td>347.0</td>\n",
       "      <td>0.7500</td>\n",
       "      <td>0.0</td>\n",
       "      <td>4.0</td>\n",
       "      <td>3.0</td>\n",
       "      <td>40.0</td>\n",
       "      <td>7.167500e+02</td>\n",
       "      <td>0.0000</td>\n",
       "      <td>114.6800</td>\n",
       "      <td>62.7500</td>\n",
       "    </tr>\n",
       "    <tr>\n",
       "      <th>317070</th>\n",
       "      <td>'GA'</td>\n",
       "      <td>2271.0</td>\n",
       "      <td>1.39</td>\n",
       "      <td>2.53</td>\n",
       "      <td>30.0</td>\n",
       "      <td>373.0</td>\n",
       "      <td>856.0</td>\n",
       "      <td>483.0</td>\n",
       "      <td>16.10</td>\n",
       "      <td>26.17</td>\n",
       "      <td>...</td>\n",
       "      <td>553.0</td>\n",
       "      <td>0.2500</td>\n",
       "      <td>4.0</td>\n",
       "      <td>8.0</td>\n",
       "      <td>2.0</td>\n",
       "      <td>104.0</td>\n",
       "      <td>2.691500e+03</td>\n",
       "      <td>0.5000</td>\n",
       "      <td>169.5433</td>\n",
       "      <td>247.2222</td>\n",
       "    </tr>\n",
       "    <tr>\n",
       "      <th>9119240</th>\n",
       "      <td>'FA'</td>\n",
       "      <td>2852.0</td>\n",
       "      <td>0.49</td>\n",
       "      <td>2.64</td>\n",
       "      <td>147.0</td>\n",
       "      <td>1286.0</td>\n",
       "      <td>2635.0</td>\n",
       "      <td>1349.0</td>\n",
       "      <td>23.13</td>\n",
       "      <td>22.47</td>\n",
       "      <td>...</td>\n",
       "      <td>3847.0</td>\n",
       "      <td>2.4000</td>\n",
       "      <td>12.0</td>\n",
       "      <td>10.0</td>\n",
       "      <td>24.0</td>\n",
       "      <td>199.0</td>\n",
       "      <td>4.369400e+03</td>\n",
       "      <td>1.2000</td>\n",
       "      <td>170.0156</td>\n",
       "      <td>173.9231</td>\n",
       "    </tr>\n",
       "    <tr>\n",
       "      <th>14105</th>\n",
       "      <td>'AC'</td>\n",
       "      <td>2859.0</td>\n",
       "      <td>1.43</td>\n",
       "      <td>2.07</td>\n",
       "      <td>84.0</td>\n",
       "      <td>184.0</td>\n",
       "      <td>600.0</td>\n",
       "      <td>416.0</td>\n",
       "      <td>3.95</td>\n",
       "      <td>41.67</td>\n",
       "      <td>...</td>\n",
       "      <td>449.0</td>\n",
       "      <td>1.3333</td>\n",
       "      <td>9.0</td>\n",
       "      <td>6.0</td>\n",
       "      <td>8.0</td>\n",
       "      <td>163.0</td>\n",
       "      <td>4.666333e+03</td>\n",
       "      <td>1.5000</td>\n",
       "      <td>102.5568</td>\n",
       "      <td>111.3929</td>\n",
       "    </tr>\n",
       "    <tr>\n",
       "      <th>...</th>\n",
       "      <td>...</td>\n",
       "      <td>...</td>\n",
       "      <td>...</td>\n",
       "      <td>...</td>\n",
       "      <td>...</td>\n",
       "      <td>...</td>\n",
       "      <td>...</td>\n",
       "      <td>...</td>\n",
       "      <td>...</td>\n",
       "      <td>...</td>\n",
       "      <td>...</td>\n",
       "      <td>...</td>\n",
       "      <td>...</td>\n",
       "      <td>...</td>\n",
       "      <td>...</td>\n",
       "      <td>...</td>\n",
       "      <td>...</td>\n",
       "      <td>...</td>\n",
       "      <td>...</td>\n",
       "      <td>...</td>\n",
       "      <td>...</td>\n",
       "    </tr>\n",
       "    <tr>\n",
       "      <th>2619852</th>\n",
       "      <td>'GA'</td>\n",
       "      <td>1547.0</td>\n",
       "      <td>0.68</td>\n",
       "      <td>7.35</td>\n",
       "      <td>166.0</td>\n",
       "      <td>267.0</td>\n",
       "      <td>840.0</td>\n",
       "      <td>573.0</td>\n",
       "      <td>34.16</td>\n",
       "      <td>9.40</td>\n",
       "      <td>...</td>\n",
       "      <td>1258.0</td>\n",
       "      <td>3.2000</td>\n",
       "      <td>6.0</td>\n",
       "      <td>5.0</td>\n",
       "      <td>16.0</td>\n",
       "      <td>254.0</td>\n",
       "      <td>6.397200e+03</td>\n",
       "      <td>1.2000</td>\n",
       "      <td>175.7473</td>\n",
       "      <td>283625.0000</td>\n",
       "    </tr>\n",
       "    <tr>\n",
       "      <th>286444</th>\n",
       "      <td>'ST'</td>\n",
       "      <td>2312.0</td>\n",
       "      <td>53.25</td>\n",
       "      <td>1.25</td>\n",
       "      <td>1.0</td>\n",
       "      <td>6.0</td>\n",
       "      <td>26.0</td>\n",
       "      <td>20.0</td>\n",
       "      <td>5.88</td>\n",
       "      <td>76.92</td>\n",
       "      <td>...</td>\n",
       "      <td>950.0</td>\n",
       "      <td>3.0000</td>\n",
       "      <td>0.0</td>\n",
       "      <td>1.0</td>\n",
       "      <td>3.0</td>\n",
       "      <td>31.0</td>\n",
       "      <td>1.458000e+03</td>\n",
       "      <td>0.0000</td>\n",
       "      <td>208.2857</td>\n",
       "      <td>38.0000</td>\n",
       "    </tr>\n",
       "    <tr>\n",
       "      <th>10560845</th>\n",
       "      <td>'GA'</td>\n",
       "      <td>967.0</td>\n",
       "      <td>6.20</td>\n",
       "      <td>3.95</td>\n",
       "      <td>18.0</td>\n",
       "      <td>6.0</td>\n",
       "      <td>89.0</td>\n",
       "      <td>83.0</td>\n",
       "      <td>7.14</td>\n",
       "      <td>24.72</td>\n",
       "      <td>...</td>\n",
       "      <td>675.0</td>\n",
       "      <td>0.4286</td>\n",
       "      <td>0.0</td>\n",
       "      <td>7.0</td>\n",
       "      <td>3.0</td>\n",
       "      <td>217.0</td>\n",
       "      <td>1.545143e+06</td>\n",
       "      <td>0.0000</td>\n",
       "      <td>152338.0000</td>\n",
       "      <td>256.6000</td>\n",
       "    </tr>\n",
       "    <tr>\n",
       "      <th>33972</th>\n",
       "      <td>'BC'</td>\n",
       "      <td>2841.0</td>\n",
       "      <td>1.87</td>\n",
       "      <td>1.60</td>\n",
       "      <td>16.0</td>\n",
       "      <td>153.0</td>\n",
       "      <td>434.0</td>\n",
       "      <td>281.0</td>\n",
       "      <td>8.51</td>\n",
       "      <td>49.77</td>\n",
       "      <td>...</td>\n",
       "      <td>801.0</td>\n",
       "      <td>1.7143</td>\n",
       "      <td>3.0</td>\n",
       "      <td>7.0</td>\n",
       "      <td>12.0</td>\n",
       "      <td>99.0</td>\n",
       "      <td>2.863571e+03</td>\n",
       "      <td>0.4286</td>\n",
       "      <td>154.1923</td>\n",
       "      <td>82125.0000</td>\n",
       "    </tr>\n",
       "    <tr>\n",
       "      <th>5184702</th>\n",
       "      <td>'AC'</td>\n",
       "      <td>1293.0</td>\n",
       "      <td>11.76</td>\n",
       "      <td>2.00</td>\n",
       "      <td>17.0</td>\n",
       "      <td>14.0</td>\n",
       "      <td>70.0</td>\n",
       "      <td>56.0</td>\n",
       "      <td>10.40</td>\n",
       "      <td>44.29</td>\n",
       "      <td>...</td>\n",
       "      <td>585.0</td>\n",
       "      <td>2.0000</td>\n",
       "      <td>0.0</td>\n",
       "      <td>7.0</td>\n",
       "      <td>14.0</td>\n",
       "      <td>206.0</td>\n",
       "      <td>1.112571e+03</td>\n",
       "      <td>0.0000</td>\n",
       "      <td>177.0000</td>\n",
       "      <td>87.9091</td>\n",
       "    </tr>\n",
       "  </tbody>\n",
       "</table>\n",
       "<p>3294 rows × 69 columns</p>\n",
       "</div>"
      ],
      "text/plain": [
       "         realClass  \\histAge  \\histAgePerReview  \\histReviewsPerUser  \\\n",
       "id                                                                     \n",
       "9915833       'SB'    1000.0               0.14                 1.67   \n",
       "6044227       'SB'    1230.0              14.43                 4.00   \n",
       "317070        'GA'    2271.0               1.39                 2.53   \n",
       "9119240       'FA'    2852.0               0.49                 2.64   \n",
       "14105         'AC'    2859.0               1.43                 2.07   \n",
       "...            ...       ...                ...                  ...   \n",
       "2619852       'GA'    1547.0               0.68                 7.35   \n",
       "286444        'ST'    2312.0              53.25                 1.25   \n",
       "10560845      'GA'     967.0               6.20                 3.95   \n",
       "33972         'BC'    2841.0               1.87                 1.60   \n",
       "5184702       'AC'    1293.0              11.76                 2.00   \n",
       "\n",
       "          \\histDiscussionCount  \\histIPCount  \\histReviewCount  \\\n",
       "id                                                               \n",
       "9915833                    4.0           0.0               5.0   \n",
       "6044227                    4.0          12.0              64.0   \n",
       "317070                    30.0         373.0             856.0   \n",
       "9119240                  147.0        1286.0            2635.0   \n",
       "14105                     84.0         184.0             600.0   \n",
       "...                        ...           ...               ...   \n",
       "2619852                  166.0         267.0             840.0   \n",
       "286444                     1.0           6.0              26.0   \n",
       "10560845                  18.0           6.0              89.0   \n",
       "33972                     16.0         153.0             434.0   \n",
       "5184702                   17.0          14.0              70.0   \n",
       "\n",
       "          \\histUserCount  \\histModifiedLinesRate  \\\n",
       "id                                                 \n",
       "9915833              5.0                    0.00   \n",
       "6044227             52.0                   21.52   \n",
       "317070             483.0                   16.10   \n",
       "9119240           1349.0                   23.13   \n",
       "14105              416.0                    3.95   \n",
       "...                  ...                     ...   \n",
       "2619852            573.0                   34.16   \n",
       "286444              20.0                    5.88   \n",
       "10560845            83.0                    7.14   \n",
       "33972              281.0                    8.51   \n",
       "5184702             56.0                   10.40   \n",
       "\n",
       "          \\histOccasionalUsersReviewsRate  ...  \\minAbsLen  \\XLinksPerSec  \\\n",
       "id                                         ...                              \n",
       "9915833                            100.00  ...         0.0         0.0000   \n",
       "6044227                             21.88  ...       347.0         0.7500   \n",
       "317070                              26.17  ...       553.0         0.2500   \n",
       "9119240                             22.47  ...      3847.0         2.4000   \n",
       "14105                               41.67  ...       449.0         1.3333   \n",
       "...                                   ...  ...         ...            ...   \n",
       "2619852                              9.40  ...      1258.0         3.2000   \n",
       "286444                              76.92  ...       950.0         3.0000   \n",
       "10560845                            24.72  ...       675.0         0.4286   \n",
       "33972                               49.77  ...       801.0         1.7143   \n",
       "5184702                             44.29  ...       585.0         2.0000   \n",
       "\n",
       "          \\ssCount  \\sCount  \\numExtLink  \\tamMaiorFrase      \\avgSLen  \\\n",
       "id                                                                       \n",
       "9915833        0.0      0.0          0.0            19.0  0.000000e+00   \n",
       "6044227        0.0      4.0          3.0            40.0  7.167500e+02   \n",
       "317070         4.0      8.0          2.0           104.0  2.691500e+03   \n",
       "9119240       12.0     10.0         24.0           199.0  4.369400e+03   \n",
       "14105          9.0      6.0          8.0           163.0  4.666333e+03   \n",
       "...            ...      ...          ...             ...           ...   \n",
       "2619852        6.0      5.0         16.0           254.0  6.397200e+03   \n",
       "286444         0.0      1.0          3.0            31.0  1.458000e+03   \n",
       "10560845       0.0      7.0          3.0           217.0  1.545143e+06   \n",
       "33972          3.0      7.0         12.0            99.0  2.863571e+03   \n",
       "5184702        0.0      7.0         14.0           206.0  1.112571e+03   \n",
       "\n",
       "          \\meanSubsectionPerSection  \\LinksPerTLen     \\avgPLen  \n",
       "id                                                               \n",
       "9915833                      0.0000        11.1209       9.3333  \n",
       "6044227                      0.0000       114.6800      62.7500  \n",
       "317070                       0.5000       169.5433     247.2222  \n",
       "9119240                      1.2000       170.0156     173.9231  \n",
       "14105                        1.5000       102.5568     111.3929  \n",
       "...                             ...            ...          ...  \n",
       "2619852                      1.2000       175.7473  283625.0000  \n",
       "286444                       0.0000       208.2857      38.0000  \n",
       "10560845                     0.0000    152338.0000     256.6000  \n",
       "33972                        0.4286       154.1923   82125.0000  \n",
       "5184702                      0.0000       177.0000      87.9091  \n",
       "\n",
       "[3294 rows x 69 columns]"
      ]
     },
     "execution_count": 11,
     "metadata": {},
     "output_type": "execute_result"
    }
   ],
   "source": [
    "df_wikipedia = pd.read_csv(\"wikipedia.csv\",index_col = \"id\")\n",
    "df_wikipedia"
   ]
  },
  {
   "cell_type": "markdown",
   "metadata": {},
   "source": [
    "Antes de executar a classificação e verificar o acerto no treino e teste, você deverá implementar a função `divide_treino_teste` que está no arquivo `arvore_decisao.py`.\n",
    "\n",
    "Essa função deverá dividir os dados, de forma aleatoria, em treino e teste.  Para isso, faça o seguinte: \n",
    "\n",
    "1. Crie o DataFrame `df_treino` por meio do Dataframe `df` e a proporção `val_proporcao_treino`, passados como parâmetro. `val_proporcao_treino` assume um valor de 0 a 1 em que, por exemplo, 0.8 representa que 80% das instancias serão de treino e, o restante, o teste. . O [método `sample`](https://pandas.pydata.org/pandas-docs/stable/reference/api/pandas.DataFrame.sample.html) irá auxiliar para isso. Us, como parâmetro `random_state=1`. Esse será o valor da semente (seed) da função aleatória para manter sempre os dados embaralhados da mesma forma (o teste unitário só irá funcionar caso tenha colocado a esse valor de semente);\n",
    "\n",
    "2. Conforme dito, o restante das instancias estarão em `df_teste`. Uma forma fácil de criar o `df_teste` é obter os elementos que estão em `df` e não estão em `df_treino`. Para isso, use [o método `drop`](https://pandas.pydata.org/pandas-docs/stable/reference/api/pandas.DataFrame.drop.html) que elimina conlunas ou  linhas de um DataFrame. Para eliminar as linhas, obtenha o id de cada linha do treino usando `df_treino.index`.\n",
    "\n",
    "Em Python uma função pode retornar mais de um elemento. Por exemplo:"
   ]
  },
  {
   "cell_type": "code",
   "execution_count": 12,
   "metadata": {},
   "outputs": [
    {
     "name": "stdout",
     "output_type": "stream",
     "text": [
      "2\n"
     ]
    }
   ],
   "source": [
    "def xuxu():\n",
    "    a = 2\n",
    "    b = 3\n",
    "    return a,b\n",
    "x,y = xuxu()\n",
    "print(x)"
   ]
  },
  {
   "cell_type": "markdown",
   "metadata": {},
   "source": [
    "Execute o seguinte testa para verificar a corretude de seu código: "
   ]
  },
  {
   "cell_type": "code",
   "execution_count": 13,
   "metadata": {},
   "outputs": [
    {
     "name": "stderr",
     "output_type": "stream",
     "text": [
      ".\n",
      "----------------------------------------------------------------------\n",
      "Ran 1 test in 0.009s\n",
      "\n",
      "OK\n"
     ]
    }
   ],
   "source": [
    "!python3 -m tests TestDecisionTree.test_divide_treino_teste"
   ]
  },
  {
   "cell_type": "markdown",
   "metadata": {},
   "source": [
    "A seguir, execute a função `divide_treino_teste` com uma divisão de 80% de treino e, logo após, usando df_treino e df_teste, crie as seguintes variáveis:\n",
    "-  `x_treino` : DataFrame que representa, para cada linha do **treino**, todos os atributos de um exemplo do treino. Para isso, elimine a coluna que representa a classe por meio [método `drop` do DataFrame](https://pandas.pydata.org/pandas-docs/stable/reference/api/pandas.DataFrame.drop.html), alterando o parametro axis;\n",
    "- `y_treino`: Series que representa, para cada posição `i`, a classe alvo do exemplo `i` representado pelos atributos `x_treino[i]`. A classe alvo está na coluna `realClass`;\n",
    "- `x_teste`: Similar ao `x_teste`, porém com as instancias do **teste**. \n",
    "- `y_teste`: Similar ao `y_treino`, porém, são as classe alvo do teste; \n"
   ]
  },
  {
   "cell_type": "code",
   "execution_count": 14,
   "metadata": {},
   "outputs": [],
   "source": [
    "from arvore_decisao import divide_treino_teste\n",
    "\n",
    "#execute a função divide_treino_teste corretamente\n",
    "df_treino, df_teste = divide_treino_teste(df_wikipedia,0.8)\n",
    "\n",
    "#instancias de treino - separe as features x da classe y\n",
    "x_treino = df_treino.drop(\"realClass\",axis=1)\n",
    "y_treino = df_treino[\"realClass\"]\n",
    "\n",
    "\n",
    "\n",
    "\n",
    "#instancias de teste - separe as features x da classe y\n",
    "x_teste =  df_teste.drop(\"realClass\",axis=1)\n",
    "y_teste = df_teste[\"realClass\"]"
   ]
  },
  {
   "cell_type": "markdown",
   "metadata": {},
   "source": [
    "Implemente agora o método `faz_classificacao`. Ele passará como parametro as variáveis `X_treino`, `y_treino`, `X_teste`, `y_teste`, criadas anteriormente além do parâmetro `min_samples` que define a quantidade mínima de instancias para que se divida um nodo da árvore de decisão.\n",
    "\n",
    "Assim, esta função irá:\n",
    "\n",
    "1- Criar o modelo a partir dos dados de treino e o parametro `min_samples` (você pode usar a função criada anteriormente);\n",
    "\n",
    "2- Realizar a predição usando o [método predict](https://scikit-learn.org/stable/modules/generated/sklearn.tree.DecisionTreeClassifier.html#sklearn.tree.DecisionTreeClassifier.predict). Esse método retorna uma lista de predição em que, para cada posição `i`, retorna o resultado previsto do exemplo representado por `x_teste[i]`;\n",
    "\n",
    "3- A partir da lista obtida pela predição e da variável `y_teste`, calcule a `acuracia` que é a proporção de acertos, ou seja, $acuracia = acertos/|y_{teste}|$ em que `acertos` é a quantidade de acertos da predição e $y_{teste}$ é a lista `y_teste`.\n",
    "\n",
    "Dicas:\n",
    "- caso tenhamos duas listas `a` e `b`, ao fazer a operação `a==b`, ele retornará uma lista em que o valor  de cada posição será igual a verdadeiro caso `a==b`.\n",
    "- np.sum soma os valores de um vetor, caso os valores sejam booleanos, será considerado True=1 e False=0.\n"
   ]
  },
  {
   "cell_type": "markdown",
   "metadata": {},
   "source": [
    "Logo após, execute o teste abaixo:"
   ]
  },
  {
   "cell_type": "code",
   "execution_count": 15,
   "metadata": {},
   "outputs": [
    {
     "name": "stderr",
     "output_type": "stream",
     "text": [
      ".\n",
      "----------------------------------------------------------------------\n",
      "Ran 1 test in 0.004s\n",
      "\n",
      "OK\n"
     ]
    }
   ],
   "source": [
    "!python3 -m tests TestDecisionTree.test_faz_classificacao"
   ]
  },
  {
   "cell_type": "code",
   "execution_count": 16,
   "metadata": {},
   "outputs": [
    {
     "name": "stdout",
     "output_type": "stream",
     "text": [
      "Acurácia: 0.5326251896813353\n"
     ]
    }
   ],
   "source": [
    "from arvore_decisao import faz_classificacao\n",
    "y_predicted,acuracia =  faz_classificacao(x_treino,y_treino,x_teste,y_teste,0.05)\n",
    "\n",
    "print(\"Acurácia: {0}\".format(acuracia)) "
   ]
  },
  {
   "cell_type": "markdown",
   "metadata": {},
   "source": [
    "Por meio da função `plot_performance_min_samples` crie um gráfico em que o eixo `x` é a variação do parâmetro `min_samples` e, o eixo `y`, representará a acurácia. Você deverá veriar o `min_samples` de 0.001 até 0.7 de 0.01 em 0.01 passos. Esse gráfico possuirá duas linhas: representando a **acurácia no treino** durante a variação do `min_samples` e, a outra, a **acurácia do teste** com os diversos valores de `min_sample`.\n",
    "\n",
    "- foi usada a função arange do numpy para o for (ao invés de range). Pois o range permite apenas passos com valores inteiros;\n",
    "- para obter a acurácia no treino, o teste deverá possuir as mesmas instancias do treino;\n",
    "- Para plotar foi usado o matplotlib veja: [https://matplotlib.org/users/pyplot_tutorial.html](https://matplotlib.org/users/pyplot_tutorial.html)."
   ]
  },
  {
   "cell_type": "markdown",
   "metadata": {},
   "source": [
    "Execute abaixo a função plot_performance_min_samples usando as veriáveis X_treino,y_treino,X_teste,y_teste"
   ]
  },
  {
   "cell_type": "code",
   "execution_count": 17,
   "metadata": {},
   "outputs": [
    {
     "data": {
      "image/png": "[encoded data removed]",
      "text/plain": [
       "<Figure size 432x288 with 1 Axes>"
      ]
     },
     "metadata": {
      "needs_background": "light"
     },
     "output_type": "display_data"
    }
   ],
   "source": [
    "from arvore_decisao import plot_performance_min_samples\n",
    "\n",
    "plot_performance_min_samples(x_treino,y_treino,x_teste,y_teste)"
   ]
  },
  {
   "cell_type": "markdown",
   "metadata": {},
   "source": [
    "Escreva abaixo **um paragrafo** descrevendo o que pode ser visto no gráfico e quando há overfitting."
   ]
  },
  {
   "cell_type": "markdown",
   "metadata": {},
   "source": [
    "<blockquote>De acordo com o gráfico é possível perceber que quando o número mínimo de instâncias é abaixo de 1% da proporção total de exemplos temos uma acurácia de treino próxima a 100%, entretanto a acurácia dos testes fica abaixo dos 50%. Isso quer dizer que o nosso modelo não está generalizando bem para dados que não foram vistos previamente ocorrendo assim um overfitting. A medida que o número mínimo de instâncias aumenta a acurácia do treino diminui e a acurácia do teste aumenta até ficarem “iguais”, entre 1% e 30%, aparentando ter uma melhor qualidade de ajuste. Acima de 30% vemos que a acurácia do teste e treino caem até ficar próxima de 40% de precisão, isso ocorre, pois, existem menos variações das previsões pelo modelo se tornar mais simples e/ou mais regularizado, ou seja, underfitting.</blockquote>"
   ]
  },
  {
   "cell_type": "markdown",
   "metadata": {},
   "source": [
    "Atenção! Nesta nossa prática, variamos o parametro no teste para ver o impacto da variável `min_samples_split` no mesmo. Porém,  caso quisessems comparar este classificador com outro, **não devemos usar informação do teste para construir o classificador** pois o teste deve reproduzir \"o mundo real\" e não saberiamos os valores do teste a priori.  \n",
    "\n",
    "Assim, não é metodologicamente correto escolher um parâmetro utilizando do teste. Para resolver esse problema, poderemos ter uma partição de validação. \n",
    "\n",
    "\n",
    "**Opcional**: Divida os dados em 60% de treino, 20% de validação e 20% de teste. Use a partição de validação para descobrir o melhor parametro `min_samples` (melhor=maior acurácia). Por meio dele, treine o modelo e calcule o resultado no teste. Além da acurácia, use a função [classification_report](https://scikit-learn.org/stable/modules/generated/sklearn.metrics.classification_report.html) para exibir outras métricas de avaliação disponíveis no Scikit Learn."
   ]
  },
  {
   "cell_type": "markdown",
   "metadata": {},
   "source": [
    "**Opcional²** Como a qualidade pode ser encarada como uma nota em uma escala, modelar este problema como regressão pode ser melhor. Por isso, use [regressão e RandomForest](https://scikit-learn.org/stable/modules/generated/sklearn.ensemble.RandomForestRegressor.html) e apresente o [Mean Squared Error](https://en.wikipedia.org/wiki/Mean_squared_error) obtido. Usando o treino e **validação** descubra o melhor valor para `min_samples_split`, apresente o grafico, e use o melhor parametro obtido na validação para o teste."
   ]
  },
  {
   "cell_type": "code",
   "execution_count": null,
   "metadata": {},
   "outputs": [],
   "source": []
  }
 ],
 "metadata": {
  "kernelspec": {
   "display_name": "Python 3",
   "language": "python",
   "name": "python3"
  },
  "language_info": {
   "codemirror_mode": {
    "name": "ipython",
    "version": 3
   },
   "file_extension": ".py",
   "mimetype": "text/x-python",
   "name": "python",
   "nbconvert_exporter": "python",
   "pygments_lexer": "ipython3",
   "version": "3.8.3"
  }
 },
 "nbformat": 4,
 "nbformat_minor": 2
}
